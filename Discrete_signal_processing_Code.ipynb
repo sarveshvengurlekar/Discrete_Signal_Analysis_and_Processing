{
  "nbformat": 4,
  "nbformat_minor": 0,
  "metadata": {
    "colab": {
      "provenance": []
    },
    "kernelspec": {
      "name": "python3",
      "display_name": "Python 3"
    },
    "language_info": {
      "name": "python"
    }
  },
  "cells": [
    {
      "cell_type": "markdown",
      "source": [
        "**Z - Transform Plot**"
      ],
      "metadata": {
        "id": "l0R8hLkGgyri"
      }
    },
    {
      "cell_type": "code",
      "source": [
        "import numpy as np\n",
        "import matplotlib.pyplot as plt\n",
        "\n",
        "def z_transform(signal):\n",
        "    \"\"\"\n",
        "    Compute the Z-transform of a discrete signal.\n",
        "\n",
        "    Parameters:\n",
        "        signal (array_like): Input signal.\n",
        "\n",
        "    Returns:\n",
        "        z_transform (array_like): Z-transform of the input signal.\n",
        "    \"\"\"\n",
        "    N = len(signal)\n",
        "    z_transform = np.zeros(N, dtype=complex)\n",
        "\n",
        "    for k in range(N):\n",
        "        z_transform[k] = sum(signal[n] * np.exp(-1j * 2 * np.pi * k * n / N) for n in range(N))\n",
        "\n",
        "    return z_transform\n",
        "\n",
        "def plot_z_transform(z_transform):\n",
        "    \"\"\"\n",
        "    Plot the Z-transform in the complex plane.\n",
        "\n",
        "    Parameters:\n",
        "        z_transform (array_like): Z-transform of a signal.\n",
        "\n",
        "    Returns:\n",
        "        None\n",
        "    \"\"\"\n",
        "    plt.plot(np.real(z_transform), np.imag(z_transform), 'bo', markersize=5)\n",
        "    plt.title('Z-transform')\n",
        "    plt.xlabel('Real part')\n",
        "    plt.ylabel('Imaginary part')\n",
        "    plt.grid(True)\n",
        "    plt.axhline(0, color='black',linewidth=0.5)\n",
        "    plt.axvline(0, color='black',linewidth=0.5)\n",
        "    plt.show()\n",
        "\n",
        "# Example usage\n",
        "# Define the discrete signal\n",
        "discrete_signal = np.array([1, 2, 3, 4, 5])\n",
        "# Compute the Z-transform\n",
        "z_transform_signal = z_transform(discrete_signal)\n",
        "# Plot the Z-transform\n",
        "plot_z_transform(z_transform_signal)\n"
      ],
      "metadata": {
        "colab": {
          "base_uri": "https://localhost:8080/",
          "height": 472
        },
        "id": "UoI5Rp7uecxa",
        "outputId": "5119505e-f5ae-432b-9727-bcea0b0023d7"
      },
      "execution_count": 1,
      "outputs": [
        {
          "output_type": "display_data",
          "data": {
            "text/plain": [
              "<Figure size 640x480 with 1 Axes>"
            ],
            "image/png": "[encoded data removed]"
          },
          "metadata": {}
        }
      ]
    },
    {
      "cell_type": "markdown",
      "source": [
        "**Casual & Non-Casual System**"
      ],
      "metadata": {
        "id": "h6z8dtGFhF8B"
      }
    },
    {
      "cell_type": "code",
      "source": [
        "def get_sequence(name):\n",
        "  \"\"\"\n",
        "  Gets a sequence of numbers from the user.\n",
        "\n",
        "  Args:\n",
        "    name: The name of the sequence (e.g., \"X(n)\" or \"Y(n)\").\n",
        "\n",
        "  Returns:\n",
        "    A list of integers representing the sequence.\n",
        "  \"\"\"\n",
        "  sequence_str = input(f\"Enter the sequence {name} (e.g., 1, 2, 3): \")\n",
        "  return [int(num) for num in sequence_str.split(\",\")]\n",
        "\n",
        "def calculate_response(x, h):\n",
        "  \"\"\"\n",
        "  Calculates the system response for a given input sequence and impulse response.\n",
        "\n",
        "  Args:\n",
        "    x: A list representing the input sequence.\n",
        "    h: A list representing the impulse response.\n",
        "\n",
        "  Returns:\n",
        "    A list representing the system response.\n",
        "  \"\"\"\n",
        "  y = []\n",
        "  for n in range(len(x)):\n",
        "    y_n = 0\n",
        "    for k in range(len(h)):\n",
        "      if n >= k:  # Consider only past and current inputs for causality check\n",
        "        y_n += h[k] * x[n - k]\n",
        "    y.append(y_n)\n",
        "  return y\n",
        "\n",
        "def check_causal(h):\n",
        "  \"\"\"\n",
        "  Checks if a given impulse response is causal.\n",
        "\n",
        "  Args:\n",
        "    h: A list representing the impulse response.\n",
        "\n",
        "  Returns:\n",
        "    True if the system is causal, False otherwise.\n",
        "  \"\"\"\n",
        "  for i in range(1, len(h)):\n",
        "    if h[i] != 0:\n",
        "      return False\n",
        "  return True\n",
        "\n",
        "def check_noncausal(h):\n",
        "  \"\"\"\n",
        "  Checks if a given impulse response is non-causal.\n",
        "\n",
        "  Args:\n",
        "    h: A list representing the impulse response.\n",
        "\n",
        "  Returns:\n",
        "    True if the system is non-causal, False otherwise.\n",
        "  \"\"\"\n",
        "  return not check_causal(h)  # Non-causal if not causal\n",
        "\n",
        "# Get input sequences\n",
        "x = get_sequence(\"X(n)\")\n",
        "h = get_sequence(\"h(n)\")\n",
        "\n",
        "# Calculate system response\n",
        "y = calculate_response(x, h)\n",
        "\n",
        "# Print the response\n",
        "print(f\"System Response Y(n): {y}\")\n",
        "\n",
        "# Check for causality and non-causality\n",
        "if check_causal(h):\n",
        "  print(\"Causal System: The system has a causal impulse response.\")\n",
        "else:\n",
        "  print(\"Causal System: The system does not have a causal impulse response.\")\n",
        "\n",
        "if check_noncausal(h):\n",
        "  print(\"Non-Causal System: The system has a non-causal impulse response.\")\n",
        "else:\n",
        "  print(\"Non-Causal System: The system does not have a non-causal impulse response.\")\n"
      ],
      "metadata": {
        "colab": {
          "base_uri": "https://localhost:8080/"
        },
        "id": "Hr1YHVRMehOi",
        "outputId": "9055a6c1-e757-46ad-a483-12bbbbd20be5"
      },
      "execution_count": 2,
      "outputs": [
        {
          "output_type": "stream",
          "name": "stdout",
          "text": [
            "Enter the sequence X(n) (e.g., 1, 2, 3): 1, 2, 3\n",
            "Enter the sequence h(n) (e.g., 1, 2, 3): 4,  5,  6\n",
            "System Response Y(n): [4, 13, 28]\n",
            "Causal System: The system does not have a causal impulse response.\n",
            "Non-Causal System: The system has a non-causal impulse response.\n"
          ]
        }
      ]
    },
    {
      "cell_type": "markdown",
      "source": [
        "**Type of System**"
      ],
      "metadata": {
        "id": "BBFTVcPphaQx"
      }
    },
    {
      "cell_type": "code",
      "source": [
        "import numpy as np\n",
        "\n",
        "def is_linear(x1, y1, x2, y2):\n",
        "  \"\"\"\n",
        "  Checks if the system satisfies the superposition principle for linearity.\n",
        "\n",
        "  Args:\n",
        "      x1, y1: Input and output for signal 1.\n",
        "      x2, y2: Input and output for signal 2.\n",
        "\n",
        "  Returns:\n",
        "      True if the system is linear, False otherwise.\n",
        "  \"\"\"\n",
        "  a = 2  # Scaling factor (example)\n",
        "  scaled_sum_x = a * x1 + x2\n",
        "  expected_sum_y = a * y1 + y2\n",
        "  return np.allclose(apply_system(scaled_sum_x), expected_sum_y)\n",
        "\n",
        "def is_time_invariant(x, y, t_shift):\n",
        "  \"\"\"\n",
        "  Checks if the system is time-invariant by applying a time shift to the input.\n",
        "\n",
        "  Args:\n",
        "      x, y: Input and output signals.\n",
        "      t_shift: Time shift value.\n",
        "\n",
        "  Returns:\n",
        "      True if the system is time-invariant, False otherwise.\n",
        "  \"\"\"\n",
        "  shifted_x = np.roll(x, int(t_shift))  # Shift input by t_shift samples\n",
        "  return np.allclose(apply_system(shifted_x), np.roll(y, int(t_shift)))\n",
        "\n",
        "def is_homogeneous(x, y, a):\n",
        "  \"\"\"\n",
        "  Checks if the system is homogeneous (output scales proportionally with input scaling).\n",
        "\n",
        "  Args:\n",
        "      x, y: Input and output signals.\n",
        "      a: Scaling factor.\n",
        "\n",
        "  Returns:\n",
        "      True if the system is homogeneous, False otherwise.\n",
        "  \"\"\"\n",
        "  scaled_x = a * x\n",
        "  scaled_y = apply_system(scaled_x)\n",
        "  return np.allclose(a * y, scaled_y)\n",
        "\n",
        "def check_bounded_input_bounded_output(x, y):\n",
        "  \"\"\"\n",
        "  Checks if the system exhibits Bounded-Input Bounded-Output (BIBO) stability.\n",
        "\n",
        "  Args:\n",
        "      x, y: Input and output signals.\n",
        "\n",
        "  Returns:\n",
        "      True if BIBO stability is potentially satisfied, False otherwise.\n",
        "  \"\"\"\n",
        "  # This is a heuristic check. A truly stable system guarantees BIBO.\n",
        "  max_input = np.max(np.abs(x))\n",
        "  max_output = np.max(np.abs(y))\n",
        "  for C in range(1, 11):  # Check for a scaling factor C\n",
        "    if max_output <= C * max_input:\n",
        "      return True\n",
        "  return False\n",
        "\n",
        "def apply_system(x):\n",
        "  \"\"\"\n",
        "  This function simulates the system behavior. Replace this with your actual system implementation.\n",
        "\n",
        "  Args:\n",
        "      x: Input signal.\n",
        "\n",
        "  Returns:\n",
        "      Output signal after applying the system.\n",
        "  \"\"\"\n",
        "  # Example: Simulate a linear time-invariant system with y(t) = 2*x(t)\n",
        "  return 2 * x\n",
        "\n",
        "def test_system_properties(x, y):\n",
        "  \"\"\"\n",
        "  Analyzes the system and tests for linearity, non-linearity, homogeneity, and potential stability.\n",
        "\n",
        "  Args:\n",
        "      x, y: Input and output signals.\n",
        "  \"\"\"\n",
        "  linear = is_linear(x[::2], y[::2], x[1::2], y[1::2])\n",
        "  time_invariant = is_time_invariant(x, y, 1)\n",
        "  homogeneous = is_homogeneous(x, y, 2)\n",
        "  bibo_stability = check_bounded_input_bounded_output(x, y)\n",
        "\n",
        "  print(\"Type of System:\")\n",
        "  print(f\"  Linear: {linear}\")\n",
        "  print(f\"  Time-Invariant: {time_invariant}\")\n",
        "  print(f\"  Homogeneous: {homogeneous}\")\n",
        "  print(f\"  Potential BIBO Stability: {bibo_stability}\")  # Indicate potential stability\n",
        "\n",
        "  if not linear:\n",
        "    print(\"  (Non-linear)\")\n",
        "\n",
        "# Example usage (replace with your actual input/output data)\n",
        "x = np.sin(2*np.pi*np.arange(10))  # Sample input signal\n",
        "y = apply_system(x)  # Apply the system to the input\n",
        "\n",
        "test_system_properties(x, y)"
      ],
      "metadata": {
        "colab": {
          "base_uri": "https://localhost:8080/"
        },
        "id": "fpccsb61ezHz",
        "outputId": "80b2dd24-ca53-4887-8051-86f33137dd3c"
      },
      "execution_count": 9,
      "outputs": [
        {
          "output_type": "stream",
          "name": "stdout",
          "text": [
            "Type of System:\n",
            "  Linear: True\n",
            "  Time-Invariant: True\n",
            "  Homogeneous: True\n",
            "  Potential BIBO Stability: True\n"
          ]
        }
      ]
    },
    {
      "cell_type": "markdown",
      "source": [
        "**Signal Analysis**"
      ],
      "metadata": {
        "id": "SrFUeu3jh_-L"
      }
    },
    {
      "cell_type": "code",
      "source": [
        "import numpy as np\n",
        "import matplotlib.pyplot as plt\n",
        "\n",
        "def analyze_signal(x, t):\n",
        "  \"\"\"\n",
        "  Analyzes the properties of a given signal.\n",
        "\n",
        "  Args:\n",
        "      x (np.ndarray): The signal values.\n",
        "      t (np.ndarray): The corresponding time values (optional).\n",
        "\n",
        "  Returns:\n",
        "      dict: A dictionary containing the analysis results.\n",
        "  \"\"\"\n",
        "\n",
        "  results = {}\n",
        "\n",
        "  # Even or Odd\n",
        "  if np.allclose(x, -x):\n",
        "    results[\"Even/Odd\"] = \"Even\"\n",
        "  else:\n",
        "    results[\"Even/Odd\"] = \"Odd\"\n",
        "\n",
        "  # Energy or Power Calculation (using defined variable t)\n",
        "  energy = np.sum(x**2) * np.diff(t)[0]  # Integral of squared signal over time\n",
        "  power = np.mean(x**2)  # Average squared signal\n",
        "  if np.isfinite(energy):\n",
        "    results[\"Energy/Power\"] = \"Energy\"\n",
        "  else:\n",
        "    results[\"Energy/Power\"] = \"Power\"\n",
        "\n",
        "  # Periodic or Aperiodic\n",
        "  period = np.ptp(np.diff(t[x != 0]))  # Time difference between non-zero samples\n",
        "  if np.isclose(period, 0):\n",
        "    results[\"Periodic/Aperiodic\"] = \"Aperiodic\"\n",
        "  else:\n",
        "    results[\"Periodic/Aperiodic\"] = f\"Periodic (period: {period:.2f}s)\"\n",
        "\n",
        "  # Random or Deterministic\n",
        "  # (Difficult to determine definitively without additional information)\n",
        "  # results[\"Random/Deterministic\"] = \"Deterministic (assumed)\"\n",
        "\n",
        "  return results\n",
        "\n",
        "def plot_signal(x, t):\n",
        "  \"\"\"\n",
        "  Plots the signal.\n",
        "\n",
        "  Args:\n",
        "      x (np.ndarray): The signal values.\n",
        "      t (np.ndarray): The corresponding time values.\n",
        "  \"\"\"\n",
        "\n",
        "  plt.plot(t, x)\n",
        "  plt.xlabel(\"Time (s)\")\n",
        "  plt.ylabel(\"Signal Value\")\n",
        "  plt.title(\"Signal X(t)\")\n",
        "  plt.grid(True)\n",
        "  plt.show()\n",
        "\n",
        "# Get signal input (replace with your actual signal generation or data)\n",
        "t = np.linspace(0, 5, 100)  # Sample time range\n",
        "x = np.sin(2*np.pi*t)  # Sample signal (sine wave)\n",
        "\n",
        "# Analyze and print signal properties\n",
        "analysis = analyze_signal(x, t)\n",
        "print(\"Signal Analysis:\")\n",
        "for key, value in analysis.items():\n",
        "  print(f\"\\t- {key}: {value}\")\n",
        "\n",
        "# Plot the signal\n",
        "plot_signal(x, t)\n"
      ],
      "metadata": {
        "colab": {
          "base_uri": "https://localhost:8080/",
          "height": 541
        },
        "id": "wqAHY0QVe18A",
        "outputId": "c9aa1b13-a7e5-4244-9b9e-2a523bbcb3a2"
      },
      "execution_count": 4,
      "outputs": [
        {
          "output_type": "stream",
          "name": "stdout",
          "text": [
            "Signal Analysis:\n",
            "\t- Even/Odd: Odd\n",
            "\t- Energy/Power: Energy\n",
            "\t- Periodic/Aperiodic: Aperiodic\n"
          ]
        },
        {
          "output_type": "display_data",
          "data": {
            "text/plain": [
              "<Figure size 640x480 with 1 Axes>"
            ],
            "image/png": "[encoded data removed]"
          },
          "metadata": {}
        }
      ]
    },
    {
      "cell_type": "markdown",
      "source": [
        "**Type of Signal**"
      ],
      "metadata": {
        "id": "r-re9vNkiLoa"
      }
    },
    {
      "cell_type": "code",
      "source": [
        "def find_period(signal):\n",
        "  \"\"\"\n",
        "  This function finds the period (N) of a discrete signal.\n",
        "\n",
        "  Args:\n",
        "    signal: A list representing the discrete signal.\n",
        "\n",
        "  Returns:\n",
        "    The period (N) of the signal, or None if the signal is aperiodic.\n",
        "  \"\"\"\n",
        "  signal_length = len(signal)\n",
        "\n",
        "  # Initial guess for the period\n",
        "  period = signal_length\n",
        "\n",
        "  for shift in range(1, signal_length):\n",
        "    # Check for perfect match between original and shifted signal\n",
        "    if all(signal[i] == signal[i + shift] for i in range(signal_length - shift)):\n",
        "      period = shift\n",
        "      break\n",
        "\n",
        "  if period == signal_length:\n",
        "    # Signal is aperiodic\n",
        "    return None\n",
        "  else:\n",
        "    return period\n",
        "\n",
        "def check_signal_type(signal):\n",
        "  \"\"\"\n",
        "  This function checks if a discrete signal is an energy signal or a power signal.\n",
        "\n",
        "  Args:\n",
        "    signal: A list representing the discrete signal.\n",
        "\n",
        "  Returns:\n",
        "    A string indicating the signal type: \"energy\" or \"power\".\n",
        "\n",
        "  Raises:\n",
        "    ValueError: If the signal is neither an energy signal nor a power signal.\n",
        "  \"\"\"\n",
        "\n",
        "  # Calculate the sum of the squared values of the signal\n",
        "  sum_squared = sum(x**2 for x in signal)\n",
        "\n",
        "  # Check if the sum is infinite (power signal) or finite (energy or neither)\n",
        "  if sum_squared == float('inf'):\n",
        "    return \"power\"\n",
        "  elif sum_squared > 0 and sum_squared < float('inf'):\n",
        "    return \"energy\"\n",
        "  else:\n",
        "    raise ValueError(\"Signal is neither an energy nor a power signal.\")\n",
        "\n",
        "# Example usage\n",
        "signal = [1, 2, 3, 4, 1, 2, 3, 4]  # Periodic signal with period 4\n",
        "period = find_period(signal)\n",
        "\n",
        "if period is None:\n",
        "  print(\"Signal is aperiodic\")\n",
        "else:\n",
        "  print(\"Signal is periodic with period\", period)\n",
        "\n",
        "# Additional example for signal type check\n",
        "#another_signal = [1, 2, 3, 0, 0]  # Replace with your actual signal\n",
        "signal_type = check_signal_type(signal)\n",
        "print(\"The signal is a\", signal_type, \"signal.\")\n"
      ],
      "metadata": {
        "colab": {
          "base_uri": "https://localhost:8080/"
        },
        "id": "QC0Ju0QSgUC6",
        "outputId": "a364644e-8518-4a60-e57e-596ff0025c7d"
      },
      "execution_count": 8,
      "outputs": [
        {
          "output_type": "stream",
          "name": "stdout",
          "text": [
            "Signal is periodic with period 4\n",
            "The signal is a energy signal.\n"
          ]
        }
      ]
    }
  ]
}
